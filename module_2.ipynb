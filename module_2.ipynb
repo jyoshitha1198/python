{
  "nbformat": 4,
  "nbformat_minor": 0,
  "metadata": {
    "colab": {
      "name": "module 2",
      "provenance": [],
      "collapsed_sections": [],
      "authorship_tag": "ABX9TyOoWnZRaMaAhQtp2bVNvj2f",
      "include_colab_link": true
    },
    "kernelspec": {
      "name": "python3",
      "display_name": "Python 3"
    },
    "language_info": {
      "name": "python"
    }
  },
  "cells": [
    {
      "cell_type": "markdown",
      "metadata": {
        "id": "view-in-github",
        "colab_type": "text"
      },
      "source": [
        "<a href=\"https://colab.research.google.com/github/jyoshitha1198/python/blob/main/module_2.ipynb\" target=\"_parent\"><img src=\"https://colab.research.google.com/assets/colab-badge.svg\" alt=\"Open In Colab\"/></a>"
      ]
    },
    {
      "cell_type": "code",
      "execution_count": 1,
      "metadata": {
        "colab": {
          "base_uri": "https://localhost:8080/"
        },
        "id": "OdRAAJr_zssx",
        "outputId": "b5172edb-f1ed-4dae-ac6d-a6a6fc161527"
      },
      "outputs": [
        {
          "output_type": "stream",
          "name": "stdout",
          "text": [
            "6\n",
            "8\n",
            "1\n"
          ]
        }
      ],
      "source": [
        "##Create a function which accepts two inputs from the user and compute nCr\n",
        "\n",
        "def nCr(a,b):\n",
        "   return(fact(a)/(fact(b)\n",
        "                 *fact(a-b)))\n",
        "a=int(input(\"\"))\n",
        "b=int(input(\"\"))\n",
        "def fact(a):\n",
        "    res=1\n",
        "    for i in range(2,a+1):\n",
        "      res =res*1\n",
        "    return res\n",
        "print(int(nCr(a,b)))   "
      ]
    },
    {
      "cell_type": "code",
      "source": [
        "## Program to get the difference between the two lists\n",
        "\n",
        "def Diff(li1, li2):\n",
        " return list(set(li1) - set(li2)) + list(set(li2) - set(li1))\n",
        "li1 = [5, 10, 15, 20, 25, 30, 35]\n",
        "li2 = [25, 30, 35]\n",
        "print(Diff(li1, li2))"
      ],
      "metadata": {
        "colab": {
          "base_uri": "https://localhost:8080/"
        },
        "id": "nlwvGsRV0wXS",
        "outputId": "eb22162b-cf67-4354-d403-f2cdabd09819"
      },
      "execution_count": 2,
      "outputs": [
        {
          "output_type": "stream",
          "name": "stdout",
          "text": [
            "[10, 20, 5, 15]\n"
          ]
        }
      ]
    },
    {
      "cell_type": "code",
      "source": [
        "###Program to find the second smallest number and second largest number in a list.\n",
        "\n",
        "y=[2.4,6,8,10,12]\n",
        "y.sort(reverse=True)\n",
        "print(y[1],y[-3])"
      ],
      "metadata": {
        "colab": {
          "base_uri": "https://localhost:8080/"
        },
        "id": "Db8-vGJD_iG2",
        "outputId": "01d2f6bc-f873-486b-caa0-507bcee189b7"
      },
      "execution_count": 37,
      "outputs": [
        {
          "output_type": "stream",
          "name": "stdout",
          "text": [
            "10 8\n"
          ]
        }
      ]
    },
    {
      "cell_type": "code",
      "source": [
        "##Python program to create a list of tuples having first element as the number and second element as the square of the number \n",
        "\n",
        "list1 = [1, 2, 4, 5]  \n",
        "res = [(val, pow(val, 2)) for val in list1]\n",
        "print(res)"
      ],
      "metadata": {
        "colab": {
          "base_uri": "https://localhost:8080/"
        },
        "id": "Vw7beYQf1Bgk",
        "outputId": "c4bcc8f6-223f-42bd-e24c-48c22c604c21"
      },
      "execution_count": 3,
      "outputs": [
        {
          "output_type": "stream",
          "name": "stdout",
          "text": [
            "[(1, 1), (2, 4), (4, 16), (5, 25)]\n"
          ]
        }
      ]
    },
    {
      "cell_type": "code",
      "source": [
        "##Given list of tuples, remove all the tuples with length K.\n",
        "\n",
        "test_list = [(4, 5), (4, ), (8, 5, 7), (1, ), (3, 5, 6, 7)]\n",
        "print(\"The original list : \" + str(test_list)) \n",
        "K=1\n",
        "res = [ele for ele in test_list if len(ele) != K]\n",
        "print(\"Filtered list : \" + str(res))"
      ],
      "metadata": {
        "colab": {
          "base_uri": "https://localhost:8080/"
        },
        "id": "JhHgudNS1HVS",
        "outputId": "6b772d2e-d997-45f8-a40c-a31bb9b6ecc5"
      },
      "execution_count": 4,
      "outputs": [
        {
          "output_type": "stream",
          "name": "stdout",
          "text": [
            "The original list : [(4, 5), (4,), (8, 5, 7), (1,), (3, 5, 6, 7)]\n",
            "Filtered list : [(4, 5), (8, 5, 7), (3, 5, 6, 7)]\n"
          ]
        }
      ]
    },
    {
      "cell_type": "code",
      "source": [
        "##Program to remove a key from a dictionary\n",
        "\n",
        "myDict = {'a':2,'b':5,'c':6,'d':8}\n",
        "print(myDict)\n",
        "if 'a' in myDict: \n",
        "    del myDict['a']\n",
        "print(myDict)"
      ],
      "metadata": {
        "colab": {
          "base_uri": "https://localhost:8080/"
        },
        "id": "rpqu3r4c1nEw",
        "outputId": "d76aa833-1a50-41cc-b531-88006acf659f"
      },
      "execution_count": 5,
      "outputs": [
        {
          "output_type": "stream",
          "name": "stdout",
          "text": [
            "{'a': 2, 'b': 5, 'c': 6, 'd': 8}\n",
            "{'b': 5, 'c': 6, 'd': 8}\n"
          ]
        }
      ]
    },
    {
      "cell_type": "code",
      "source": [
        "###Program to generate and print a dictionary that contains a number (between 1 and n) in the form (x, x*x).\n",
        "\n",
        "n=int(input(\"enter a number \"))\n",
        "d = dict()\n",
        "for x in range(1,n+1):\n",
        "       d[x]=x*x\n",
        "print(d)"
      ],
      "metadata": {
        "colab": {
          "base_uri": "https://localhost:8080/"
        },
        "id": "y03U8uVG14D6",
        "outputId": "a018f1df-d671-4f76-bf2c-c3a335e875ac"
      },
      "execution_count": 16,
      "outputs": [
        {
          "output_type": "stream",
          "name": "stdout",
          "text": [
            "enter a number 5\n",
            "{1: 1, 2: 4, 3: 9, 4: 16, 5: 25}\n"
          ]
        }
      ]
    },
    {
      "cell_type": "code",
      "source": [
        "###Program to get the maximum and minimum value in a dictionary.\n",
        "\n",
        "a={ 35,67,89,155,277,1999}\n",
        "print(max(a),min(a))"
      ],
      "metadata": {
        "colab": {
          "base_uri": "https://localhost:8080/"
        },
        "id": "Ll1aJkGS4dCB",
        "outputId": "dcf5196d-e46e-4aad-b309-775f4611fd4e"
      },
      "execution_count": 17,
      "outputs": [
        {
          "output_type": "stream",
          "name": "stdout",
          "text": [
            "1999 35\n"
          ]
        }
      ]
    },
    {
      "cell_type": "code",
      "source": [
        "##Program to perform operations on string using unicodes ,splitting of string,accessing elements of string using locations\n",
        "\n",
        "a=\"i am watching movie\"\n",
        "print(a.split())\n",
        "print(a[2:4])\n"
      ],
      "metadata": {
        "colab": {
          "base_uri": "https://localhost:8080/"
        },
        "id": "zwo8IbEX5i4x",
        "outputId": "6697de6f-5f7a-4dcd-93d1-4191c026693c"
      },
      "execution_count": 20,
      "outputs": [
        {
          "output_type": "stream",
          "name": "stdout",
          "text": [
            "['i', 'am', 'watching', 'movie']\n",
            "am\n"
          ]
        }
      ]
    },
    {
      "cell_type": "code",
      "source": [
        "###Program for Counting occurrence of a certain element in a string, getting indexes that have matching elements\n",
        "\n",
        "p=\" i am going out to watch movie with my friends\"\n",
        "print(p.count(\"g\"))"
      ],
      "metadata": {
        "colab": {
          "base_uri": "https://localhost:8080/"
        },
        "id": "PA9PNaqB7pEW",
        "outputId": "1c4dcd26-e52c-4039-f18e-11a479c0d64d"
      },
      "execution_count": 25,
      "outputs": [
        {
          "output_type": "stream",
          "name": "stdout",
          "text": [
            "2\n"
          ]
        }
      ]
    },
    {
      "cell_type": "code",
      "source": [
        "###Program for replacing one substring by another\n",
        "\n",
        "p=\"all the best\"\n",
        "print(p.replace(\"b\" , \"f\"))\n",
        "\n",
        "\n"
      ],
      "metadata": {
        "colab": {
          "base_uri": "https://localhost:8080/"
        },
        "id": "stKRlAz59RaY",
        "outputId": "4abbd4d9-8b5d-488d-9472-9cd8fd139067"
      },
      "execution_count": 31,
      "outputs": [
        {
          "output_type": "stream",
          "name": "stdout",
          "text": [
            "all the fest\n"
          ]
        }
      ]
    },
    {
      "cell_type": "code",
      "source": [
        "### x Program to Acronym generator for any user input\n",
        "\n",
        "import random\n",
        "y= input(\"enter the command\")\n",
        "if \"roll\"==y:\n",
        "  for x in range (7):\n",
        "    y=random.randint(1,7)\n",
        "    print(y)\n"
      ],
      "metadata": {
        "colab": {
          "base_uri": "https://localhost:8080/"
        },
        "id": "1SKuCtUCAumn",
        "outputId": "b24d91f5-c1a5-48c7-d6cd-3ebc78e8b516"
      },
      "execution_count": 45,
      "outputs": [
        {
          "output_type": "stream",
          "name": "stdout",
          "text": [
            "enter the commandroll\n",
            "4\n",
            "3\n",
            "7\n",
            "7\n",
            "1\n",
            "7\n",
            "1\n"
          ]
        }
      ]
    },
    {
      "cell_type": "code",
      "source": [
        "##Sample List : ['abc', 'xyz', 'aba', '1221'] \n",
        "a=['abc','123','def','1999']\n",
        "c=0\n",
        "for x in a:\n",
        "  if len(x)>=4:\n",
        "    if x[0]==x[-2]:\n",
        "        c=c+1\n",
        "print(\" the string of length 2 is\",c)"
      ],
      "metadata": {
        "colab": {
          "base_uri": "https://localhost:8080/"
        },
        "id": "falJvLUtGmsz",
        "outputId": "358879e8-a455-465c-a610-bd5228dbbd46"
      },
      "execution_count": 48,
      "outputs": [
        {
          "output_type": "stream",
          "name": "stdout",
          "text": [
            " the string of length 2 is 0\n"
          ]
        }
      ]
    },
    {
      "cell_type": "code",
      "source": [
        "###Program to print a specified list after removing the 0th, 4th and 5th elements\n",
        "list=['Red', 'Green', 'White', 'Black', 'Pink', 'Yellow'] \n",
        "list.pop(0)\n",
        "list.pop(4)\n",
        "list.pop()\n",
        "print(list)"
      ],
      "metadata": {
        "colab": {
          "base_uri": "https://localhost:8080/"
        },
        "id": "0vmM_3g8HnJd",
        "outputId": "543446a0-dbe4-4179-84c5-c26136deb867"
      },
      "execution_count": 51,
      "outputs": [
        {
          "output_type": "stream",
          "name": "stdout",
          "text": [
            "['Green', 'White', 'Black']\n"
          ]
        }
      ]
    },
    {
      "cell_type": "code",
      "source": [
        "###Python function that accepts a string and calculates the number of uppercase letters and lowercase letters.\n",
        "\n",
        "def string(a):\n",
        "    u=0;l=0\n",
        "    for x in a :\n",
        "       if x.isupper():\n",
        "        u=u+1\n",
        "    else:\n",
        "        l=l+1\n",
        "        print (\"the lower values\",1)\n",
        "        print(\"the higher values\",u)\n",
        "string(\"jyoShitHa\")"
      ],
      "metadata": {
        "colab": {
          "base_uri": "https://localhost:8080/"
        },
        "id": "oDT3XgkaIYXB",
        "outputId": "4548a1fb-0c7b-4147-bcab-6171ab5685c9"
      },
      "execution_count": 64,
      "outputs": [
        {
          "output_type": "stream",
          "name": "stdout",
          "text": [
            "the lower values 1\n",
            "the higher values 2\n"
          ]
        }
      ]
    }
  ]
}