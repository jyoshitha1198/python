{
  "nbformat": 4,
  "nbformat_minor": 0,
  "metadata": {
    "colab": {
      "name": "moudle 1",
      "provenance": [],
      "authorship_tag": "ABX9TyM7pTNP6nmgpsEHDr2ynPeC",
      "include_colab_link": true
    },
    "kernelspec": {
      "name": "python3",
      "display_name": "Python 3"
    },
    "language_info": {
      "name": "python"
    }
  },
  "cells": [
    {
      "cell_type": "markdown",
      "metadata": {
        "id": "view-in-github",
        "colab_type": "text"
      },
      "source": [
        "<a href=\"https://colab.research.google.com/github/jyoshitha1198/python/blob/main/moudle_1.ipynb\" target=\"_parent\"><img src=\"https://colab.research.google.com/assets/colab-badge.svg\" alt=\"Open In Colab\"/></a>"
      ]
    },
    {
      "cell_type": "code",
      "execution_count": null,
      "metadata": {
        "colab": {
          "base_uri": "https://localhost:8080/"
        },
        "id": "ozFcc_sCdvmx",
        "outputId": "d383d990-3e58-4c81-df12-170d3d5725f2"
      },
      "outputs": [
        {
          "output_type": "stream",
          "name": "stdout",
          "text": [
            "50\n",
            "60\n",
            "-10\n"
          ]
        }
      ],
      "source": [
        "##Accept input from user and store it in variable and print the value.\n",
        "\n",
        "a=400\n",
        "b=300\n",
        "c=int(input())\n",
        "d=int(input())\n",
        "e=a-(b)-(c)-(d)\n",
        "print(e)\n",
        "\n",
        "\n"
      ]
    },
    {
      "cell_type": "code",
      "source": [
        "##Use of print statements and use of (.format )for printing different data types\n",
        "\n",
        "quantity = 2\n",
        "itemno= 115\n",
        "price=250\n",
        "myorder=\"I want to pay {2} dollars for {0} pieces of item{1}\"\n",
        "print(myorder.format(quantity,itemno,price))"
      ],
      "metadata": {
        "colab": {
          "base_uri": "https://localhost:8080/"
        },
        "id": "RLpFycO3hW05",
        "outputId": "e6413ec4-0a4e-446e-d860-afa564dcb5c8"
      },
      "execution_count": null,
      "outputs": [
        {
          "output_type": "stream",
          "name": "stdout",
          "text": [
            "I want to pay 250 dollars for 2 pieces of item115\n"
          ]
        }
      ]
    },
    {
      "cell_type": "code",
      "source": [
        "##Take 2 numbers as user input and add, multiply, divide, subtract, remainder and print\n",
        "\n",
        "a=int(input(\"enter the number\"))\n",
        "b=int(input(\"enter the number\"))\n",
        "sum=a+b\n",
        "print(sum)\n",
        "difference=a-b\n",
        "print(difference)\n",
        "product=a*b\n",
        "print(product)\n",
        "division=a/b\n",
        "print(division)\n",
        "rem=a%b\n",
        "print(rem)\n"
      ],
      "metadata": {
        "colab": {
          "base_uri": "https://localhost:8080/"
        },
        "id": "IWHqc_dWhsU_",
        "outputId": "9be6199e-2ee8-464a-a061-a91e508d696d"
      },
      "execution_count": null,
      "outputs": [
        {
          "output_type": "stream",
          "name": "stdout",
          "text": [
            "enter the number8\n",
            "enter the number7\n",
            "15\n",
            "1\n",
            "56\n",
            "1.1428571428571428\n",
            "1\n"
          ]
        }
      ]
    },
    {
      "cell_type": "code",
      "source": [
        "##Conversion of one unit to another (such as hours to minutes, miles to km and etc)\n",
        "\n",
        "##hours to minutes\n",
        "h=int(input(\" enter hours\"))\n",
        "m=h*60\n",
        "print(m,\"minutes\")\n",
        "\n",
        "##kilometers to meters and centimeters\n",
        "km=int(input(\"enter km\"))\n",
        "m=km*1000\n",
        "cm=m*100\n",
        "print(m,\"meters\")\n",
        "print(cm,\"centimeters\")"
      ],
      "metadata": {
        "colab": {
          "base_uri": "https://localhost:8080/"
        },
        "id": "H-C9Y1AWjbPY",
        "outputId": "e07525eb-7f16-41b5-d7ca-bb180b376304"
      },
      "execution_count": null,
      "outputs": [
        {
          "output_type": "stream",
          "name": "stdout",
          "text": [
            " enter hours2\n",
            "120 minutes\n",
            "enter km20\n",
            "20000 meters\n",
            "2000000 centimeters\n"
          ]
        }
      ]
    },
    {
      "cell_type": "code",
      "source": [
        "##Accepting 5 different subject marks from user and displaying the grade of the student\n",
        "\n",
        "a=int(input(\"enter marks of math\"))\n",
        "b=int(input(\"enter marks of engh\"))\n",
        "c=int(input(\"enter marks of soci\"))\n",
        "d=int(input(\"enter marks of phys\"))\n",
        "e=int(input(\"enter marks of chem\"))\n",
        "avg=a+b+c+d+e/5\n",
        "if(avg>90):\n",
        "     print(\"grade A\")\n",
        "elif(avg>=80&avg<90):\n",
        "  print(\"grade B\")\n",
        "elif(avg>=70&avg<80):\n",
        "  print(\"grade C\")\n",
        "elif(avg>=60&avg<70):\n",
        "  print(\"grade D\")\n",
        "else:\n",
        "     print(\"grade F \")\n",
        "     "
      ],
      "metadata": {
        "colab": {
          "base_uri": "https://localhost:8080/"
        },
        "id": "2COanmzsoUCo",
        "outputId": "bb065cdd-8f4b-4a16-b413-f4cea8995051"
      },
      "execution_count": null,
      "outputs": [
        {
          "output_type": "stream",
          "name": "stdout",
          "text": [
            "enter marks of math30\n",
            "enter marks of engh25\n",
            "enter marks of soci29\n",
            "enter marks of phys30\n",
            "enter marks of chem30\n",
            "grade A\n"
          ]
        }
      ]
    }
  ]
}